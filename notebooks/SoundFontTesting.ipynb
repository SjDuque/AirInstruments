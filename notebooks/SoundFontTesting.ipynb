{
 "cells": [
  {
   "cell_type": "code",
   "execution_count": 12,
   "source": [
    "import time\r\n",
    "import fluidsynth"
   ],
   "outputs": [],
   "metadata": {}
  },
  {
   "cell_type": "code",
   "execution_count": 3,
   "source": [
    "fs = fluidsynth.Synth()\r\n",
    "fs.start()"
   ],
   "outputs": [],
   "metadata": {}
  },
  {
   "cell_type": "code",
   "execution_count": 61,
   "source": [
    "# Load The MuseScore_General SoundFont under an MIT License\r\n",
    "\r\n",
    "sfid = fs.sfload(\"MuseScore_General.sf2\")\r\n",
    "\r\n",
    "# Select the Ukulele\r\n",
    "# fs.program_select(0, sfid, 8, 24)\r\n",
    "\r\n",
    "# Select the Space Voice\r\n",
    "# fs.program_select(0, sfid, 0, 91)\r\n",
    "\r\n",
    "# Select the Bass\r\n",
    "fs.program_select(0, sfid, 0, 32)"
   ],
   "outputs": [
    {
     "output_type": "execute_result",
     "data": {
      "text/plain": [
       "0"
      ]
     },
     "metadata": {},
     "execution_count": 61
    }
   ],
   "metadata": {}
  },
  {
   "cell_type": "code",
   "execution_count": 42,
   "source": [
    "# Creating a dictionary for easy conversion between MIDI values and notes\r\n",
    "\r\n",
    "NOTES = ('C', 'C#', 'D', 'D#', 'E', 'F', 'F#', 'G', 'G#', 'A', 'A#', 'B')\r\n",
    "OCTAVES = (-1, 0, 1, 2, 3, 4, 5, 6, 7, 8, 9)\r\n",
    "\r\n",
    "midi_map= {}\r\n",
    "\r\n",
    "for i in range(128):\r\n",
    "    n = NOTES[i % 12]\r\n",
    "    o = str(OCTAVES[i // 12])\r\n",
    "    midi_map[n+o] = i\r\n",
    "\r\n",
    "print(midi_map)"
   ],
   "outputs": [
    {
     "output_type": "stream",
     "name": "stdout",
     "text": [
      "{'C-1': 0, 'C#-1': 1, 'D-1': 2, 'D#-1': 3, 'E-1': 4, 'F-1': 5, 'F#-1': 6, 'G-1': 7, 'G#-1': 8, 'A-1': 9, 'A#-1': 10, 'B-1': 11, 'C0': 12, 'C#0': 13, 'D0': 14, 'D#0': 15, 'E0': 16, 'F0': 17, 'F#0': 18, 'G0': 19, 'G#0': 20, 'A0': 21, 'A#0': 22, 'B0': 23, 'C1': 24, 'C#1': 25, 'D1': 26, 'D#1': 27, 'E1': 28, 'F1': 29, 'F#1': 30, 'G1': 31, 'G#1': 32, 'A1': 33, 'A#1': 34, 'B1': 35, 'C2': 36, 'C#2': 37, 'D2': 38, 'D#2': 39, 'E2': 40, 'F2': 41, 'F#2': 42, 'G2': 43, 'G#2': 44, 'A2': 45, 'A#2': 46, 'B2': 47, 'C3': 48, 'C#3': 49, 'D3': 50, 'D#3': 51, 'E3': 52, 'F3': 53, 'F#3': 54, 'G3': 55, 'G#3': 56, 'A3': 57, 'A#3': 58, 'B3': 59, 'C4': 60, 'C#4': 61, 'D4': 62, 'D#4': 63, 'E4': 64, 'F4': 65, 'F#4': 66, 'G4': 67, 'G#4': 68, 'A4': 69, 'A#4': 70, 'B4': 71, 'C5': 72, 'C#5': 73, 'D5': 74, 'D#5': 75, 'E5': 76, 'F5': 77, 'F#5': 78, 'G5': 79, 'G#5': 80, 'A5': 81, 'A#5': 82, 'B5': 83, 'C6': 84, 'C#6': 85, 'D6': 86, 'D#6': 87, 'E6': 88, 'F6': 89, 'F#6': 90, 'G6': 91, 'G#6': 92, 'A6': 93, 'A#6': 94, 'B6': 95, 'C7': 96, 'C#7': 97, 'D7': 98, 'D#7': 99, 'E7': 100, 'F7': 101, 'F#7': 102, 'G7': 103, 'G#7': 104, 'A7': 105, 'A#7': 106, 'B7': 107, 'C8': 108, 'C#8': 109, 'D8': 110, 'D#8': 111, 'E8': 112, 'F8': 113, 'F#8': 114, 'G8': 115, 'G#8': 116, 'A8': 117, 'A#8': 118, 'B8': 119, 'C9': 120, 'C#9': 121, 'D9': 122, 'D#9': 123, 'E9': 124, 'F9': 125, 'F#9': 126, 'G9': 127}\n"
     ]
    }
   ],
   "metadata": {
    "scrolled": false
   }
  },
  {
   "cell_type": "code",
   "execution_count": 62,
   "source": [
    "# Check the instrument's strings\r\n",
    "\r\n",
    "strings = ['E1', 'A1', 'D2', 'G2']\r\n",
    "\r\n",
    "# Pluck each string individually\r\n",
    "for note in strings:\r\n",
    "    # fs.noteoff(0, midi_map[note])\r\n",
    "    fs.noteon(0, midi_map[note], 127)\r\n",
    "    time.sleep(1.0)\r\n",
    "    # fs.noteoff(0, midi_map[note])\r\n",
    "time.sleep(1.0)\r\n",
    "# Play them together a twice\r\n",
    "for i in range(5):\r\n",
    "    for note in strings:\r\n",
    "        fs.noteon(0, midi_map[note], 127)\r\n",
    "        time.sleep(0.02)\r\n",
    "    time.sleep(1.0)\r\n",
    "    for note in strings:\r\n",
    "        fs.noteon(0, midi_map[note], 127)\r\n",
    "        time.sleep(0.02)"
   ],
   "outputs": [],
   "metadata": {}
  },
  {
   "cell_type": "code",
   "execution_count": 13,
   "source": [
    "# Play mary had a little lamb\r\n",
    "\r\n",
    "mary_lamb = [\r\n",
    "    ['E4', 'D4', 'C4', 'D4', 'E4', 'E4', 'E4'],\r\n",
    "    ['D4', 'D4', 'D4'], ['E4', 'E4', 'E4'],\r\n",
    "    ['E4', 'D4', 'C4', 'D4', 'E4', 'E4', 'E4'],\r\n",
    "    ['E4', 'D4', 'D4', 'E4', 'D4', 'C4']\r\n",
    "            ]\r\n",
    "\r\n",
    "for line in mary_lamb:\r\n",
    "    for note in line:\r\n",
    "        fs.noteon(0, midi_map[note], 127)\r\n",
    "        print(note)\r\n",
    "        time.sleep(.4)\r\n",
    "        fs.noteoff(0, midi_map[note])\r\n",
    "    time.sleep(0.5)"
   ],
   "outputs": [
    {
     "output_type": "stream",
     "name": "stdout",
     "text": [
      "E4\n",
      "D4\n",
      "C4\n",
      "D4\n",
      "E4\n",
      "E4\n",
      "E4\n",
      "D4\n",
      "D4\n",
      "D4\n",
      "E4\n",
      "E4\n",
      "E4\n",
      "E4\n",
      "D4\n",
      "C4\n",
      "D4\n",
      "E4\n",
      "E4\n",
      "E4\n",
      "E4\n",
      "D4\n",
      "D4\n",
      "E4\n",
      "D4\n",
      "C4\n"
     ]
    }
   ],
   "metadata": {}
  },
  {
   "cell_type": "code",
   "execution_count": null,
   "source": [],
   "outputs": [],
   "metadata": {}
  }
 ],
 "metadata": {
  "kernelspec": {
   "display_name": "Python 3",
   "language": "python",
   "name": "python3"
  },
  "language_info": {
   "codemirror_mode": {
    "name": "ipython",
    "version": 3
   },
   "file_extension": ".py",
   "mimetype": "text/x-python",
   "name": "python",
   "nbconvert_exporter": "python",
   "pygments_lexer": "ipython3",
   "version": "3.8.10"
  }
 },
 "nbformat": 4,
 "nbformat_minor": 2
}